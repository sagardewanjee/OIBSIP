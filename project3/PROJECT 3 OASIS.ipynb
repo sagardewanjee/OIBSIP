{
 "cells": [
  {
   "cell_type": "code",
   "execution_count": 2,
   "id": "52454b20-e36b-4118-9f92-326649a7cff9",
   "metadata": {},
   "outputs": [],
   "source": [
    "import pandas as pd\n",
    "import numpy as np"
   ]
  },
  {
   "cell_type": "code",
   "execution_count": 3,
   "id": "33876940-3866-4de2-8ba6-3eab1233bda2",
   "metadata": {},
   "outputs": [
    {
     "name": "stdout",
     "output_type": "stream",
     "text": [
      "<class 'pandas.core.frame.DataFrame'>\n",
      "RangeIndex: 48895 entries, 0 to 48894\n",
      "Data columns (total 16 columns):\n",
      " #   Column                          Non-Null Count  Dtype  \n",
      "---  ------                          --------------  -----  \n",
      " 0   id                              48895 non-null  int64  \n",
      " 1   name                            48879 non-null  object \n",
      " 2   host_id                         48895 non-null  int64  \n",
      " 3   host_name                       48874 non-null  object \n",
      " 4   neighbourhood_group             48895 non-null  object \n",
      " 5   neighbourhood                   48895 non-null  object \n",
      " 6   latitude                        48895 non-null  float64\n",
      " 7   longitude                       48895 non-null  float64\n",
      " 8   room_type                       48895 non-null  object \n",
      " 9   price                           48895 non-null  int64  \n",
      " 10  minimum_nights                  48895 non-null  int64  \n",
      " 11  number_of_reviews               48895 non-null  int64  \n",
      " 12  last_review                     38843 non-null  object \n",
      " 13  reviews_per_month               38843 non-null  float64\n",
      " 14  calculated_host_listings_count  48895 non-null  int64  \n",
      " 15  availability_365                48895 non-null  int64  \n",
      "dtypes: float64(3), int64(7), object(6)\n",
      "memory usage: 6.0+ MB\n",
      "\n",
      "Few rows from top:\n",
      "\n",
      "      id                                              name  host_id  \\\n",
      "0  2539                Clean & quiet apt home by the park     2787   \n",
      "1  2595                             Skylit Midtown Castle     2845   \n",
      "2  3647               THE VILLAGE OF HARLEM....NEW YORK !     4632   \n",
      "3  3831                   Cozy Entire Floor of Brownstone     4869   \n",
      "4  5022  Entire Apt: Spacious Studio/Loft by central park     7192   \n",
      "\n",
      "     host_name neighbourhood_group neighbourhood  latitude  longitude  \\\n",
      "0         John            Brooklyn    Kensington  40.64749  -73.97237   \n",
      "1     Jennifer           Manhattan       Midtown  40.75362  -73.98377   \n",
      "2    Elisabeth           Manhattan        Harlem  40.80902  -73.94190   \n",
      "3  LisaRoxanne            Brooklyn  Clinton Hill  40.68514  -73.95976   \n",
      "4        Laura           Manhattan   East Harlem  40.79851  -73.94399   \n",
      "\n",
      "         room_type  price  minimum_nights  number_of_reviews last_review  \\\n",
      "0     Private room    149               1                  9  2018-10-19   \n",
      "1  Entire home/apt    225               1                 45  2019-05-21   \n",
      "2     Private room    150               3                  0         NaN   \n",
      "3  Entire home/apt     89               1                270  2019-07-05   \n",
      "4  Entire home/apt     80              10                  9  2018-11-19   \n",
      "\n",
      "   reviews_per_month  calculated_host_listings_count  availability_365  \n",
      "0               0.21                               6               365  \n",
      "1               0.38                               2               355  \n",
      "2                NaN                               1               365  \n",
      "3               4.64                               1               194  \n",
      "4               0.10                               1                 0  \n",
      "\n",
      "Few rows from below:\n",
      "\n",
      "              id                                               name   host_id  \\\n",
      "48890  36484665    Charming one bedroom - newly renovated rowhouse   8232441   \n",
      "48891  36485057      Affordable room in Bushwick/East Williamsburg   6570630   \n",
      "48892  36485431            Sunny Studio at Historical Neighborhood  23492952   \n",
      "48893  36485609               43rd St. Time Square-cozy single bed  30985759   \n",
      "48894  36487245  Trendy duplex in the very heart of Hell's Kitchen  68119814   \n",
      "\n",
      "           host_name neighbourhood_group       neighbourhood  latitude  \\\n",
      "48890        Sabrina            Brooklyn  Bedford-Stuyvesant  40.67853   \n",
      "48891        Marisol            Brooklyn            Bushwick  40.70184   \n",
      "48892  Ilgar & Aysel           Manhattan              Harlem  40.81475   \n",
      "48893            Taz           Manhattan      Hell's Kitchen  40.75751   \n",
      "48894     Christophe           Manhattan      Hell's Kitchen  40.76404   \n",
      "\n",
      "       longitude        room_type  price  minimum_nights  number_of_reviews  \\\n",
      "48890  -73.94995     Private room     70               2                  0   \n",
      "48891  -73.93317     Private room     40               4                  0   \n",
      "48892  -73.94867  Entire home/apt    115              10                  0   \n",
      "48893  -73.99112      Shared room     55               1                  0   \n",
      "48894  -73.98933     Private room     90               7                  0   \n",
      "\n",
      "      last_review  reviews_per_month  calculated_host_listings_count  \\\n",
      "48890         NaN                NaN                               2   \n",
      "48891         NaN                NaN                               2   \n",
      "48892         NaN                NaN                               1   \n",
      "48893         NaN                NaN                               6   \n",
      "48894         NaN                NaN                               1   \n",
      "\n",
      "       availability_365  \n",
      "48890                 9  \n",
      "48891                36  \n",
      "48892                27  \n",
      "48893                 2  \n",
      "48894                23  \n"
     ]
    }
   ],
   "source": [
    "#1.Dataset Loading and Basic Information\n",
    "df=pd.read_csv(\"D:/OASIS DATA ANALYSIS/project3/AB_NYC_2019.csv\")\n",
    "df.info()\n",
    "\n",
    "print(\"\\nFew rows from top:\\n\\n\",df.head(5))\n",
    "print(\"\\nFew rows from below:\\n\\n\",df.tail(5))"
   ]
  },
  {
   "cell_type": "code",
   "execution_count": 4,
   "id": "2cfbf8e3-19b4-41af-ba64-53ba517a3912",
   "metadata": {},
   "outputs": [
    {
     "name": "stdout",
     "output_type": "stream",
     "text": [
      "id                                    0\n",
      "name                                 16\n",
      "host_id                               0\n",
      "host_name                            21\n",
      "neighbourhood_group                   0\n",
      "neighbourhood                         0\n",
      "latitude                              0\n",
      "longitude                             0\n",
      "room_type                             0\n",
      "price                                 0\n",
      "minimum_nights                        0\n",
      "number_of_reviews                     0\n",
      "last_review                       10052\n",
      "reviews_per_month                 10052\n",
      "calculated_host_listings_count        0\n",
      "availability_365                      0\n",
      "dtype: int64\n"
     ]
    }
   ],
   "source": [
    "#2.Checking for missing values\n",
    "print(df.isnull().sum())"
   ]
  },
  {
   "cell_type": "code",
   "execution_count": 5,
   "id": "a7b98fde-b908-4f04-95fd-02d48fdbf545",
   "metadata": {},
   "outputs": [],
   "source": [
    "#filling the missing value in last_review and reviews_per_month\n",
    "df.fillna({'last_review':'no review'}, inplace=True)\n",
    "df.fillna({'reviews_per_month':0}, inplace=True) #0 as no review"
   ]
  },
  {
   "cell_type": "code",
   "execution_count": 6,
   "id": "3f74d96d-d494-4311-a68f-39985bf80e7b",
   "metadata": {},
   "outputs": [],
   "source": [
    "#removing missing rows for name and host_name as they are identifiers\n",
    "df.dropna(subset=['name','host_name'], inplace=True)"
   ]
  },
  {
   "cell_type": "code",
   "execution_count": 7,
   "id": "12650b00-f17f-4e57-a88e-81c2617f749d",
   "metadata": {},
   "outputs": [
    {
     "name": "stdout",
     "output_type": "stream",
     "text": [
      "id                                0\n",
      "name                              0\n",
      "host_id                           0\n",
      "host_name                         0\n",
      "neighbourhood_group               0\n",
      "neighbourhood                     0\n",
      "latitude                          0\n",
      "longitude                         0\n",
      "room_type                         0\n",
      "price                             0\n",
      "minimum_nights                    0\n",
      "number_of_reviews                 0\n",
      "last_review                       0\n",
      "reviews_per_month                 0\n",
      "calculated_host_listings_count    0\n",
      "availability_365                  0\n",
      "dtype: int64\n"
     ]
    }
   ],
   "source": [
    "print(df.isnull().sum()) #checking for any missing value left"
   ]
  },
  {
   "cell_type": "code",
   "execution_count": 8,
   "id": "4cff500b-a3ed-47b6-9b1c-a0dc5371cda2",
   "metadata": {},
   "outputs": [
    {
     "name": "stdout",
     "output_type": "stream",
     "text": [
      "48858\n",
      "48858\n"
     ]
    }
   ],
   "source": [
    "#3.Removing any duplicate values to avoid redundancy\n",
    "before=df.shape[0]\n",
    "print(before)\n",
    "df.drop_duplicates(inplace=True)\n",
    "after=df.shape[0]\n",
    "print(after) #before and after is equal so there was no duplicate values"
   ]
  },
  {
   "cell_type": "code",
   "execution_count": 9,
   "id": "0aea19a9-0fe4-43b2-a3ad-3673ffaef608",
   "metadata": {},
   "outputs": [
    {
     "name": "stdout",
     "output_type": "stream",
     "text": [
      "0\n",
      "0.0\n",
      "0\n",
      "1\n",
      "1\n",
      "0\n"
     ]
    }
   ],
   "source": [
    "#4.Standardizing values\n",
    "#checking for negative value in non-negative columns\n",
    "print(df['price'].min())\n",
    "print(df['reviews_per_month'].min())\n",
    "print(df['number_of_reviews'].min())\n",
    "print(df['minimum_nights'].min())\n",
    "print(df['calculated_host_listings_count'].min())\n",
    "print(df['availability_365'].min())\n",
    "\n",
    "#Removing list with zero price as price cannot be zero\n",
    "df = df[df['price'] > 0]"
   ]
  },
  {
   "cell_type": "code",
   "execution_count": 10,
   "id": "01f1df67-08ed-40c3-b403-12eb26511da6",
   "metadata": {},
   "outputs": [
    {
     "name": "stdout",
     "output_type": "stream",
     "text": [
      "99th percentile price threshold: 799.0\n"
     ]
    }
   ],
   "source": [
    "#5.outlier detection and removal\n",
    "upper_limit = df['price'].quantile(0.99) # Price can have extreme values that skew the analysis\n",
    "print(\"99th percentile price threshold:\", upper_limit)  # Using the 99th percentile as a threshold to filter out outliers\n",
    "\n",
    "# Filter out outliers\n",
    "df = df[df['price'] <= upper_limit]"
   ]
  },
  {
   "cell_type": "code",
   "execution_count": 11,
   "id": "21a27e81-b26e-44b9-b928-44def2517906",
   "metadata": {},
   "outputs": [
    {
     "name": "stdout",
     "output_type": "stream",
     "text": [
      "count    48373.000000\n",
      "mean         6.961776\n",
      "std         19.791815\n",
      "min          1.000000\n",
      "25%          1.000000\n",
      "50%          3.000000\n",
      "75%          5.000000\n",
      "max       1250.000000\n",
      "Name: minimum_nights, dtype: float64\n",
      "Upper bound for minimum_nights (IQR method): 11.0\n"
     ]
    }
   ],
   "source": [
    "print(df['minimum_nights'].describe())# minimum nights also contains outliers\n",
    "#using interquartile method to filter out outliers\n",
    "Q1 = df['minimum_nights'].quantile(0.25)\n",
    "Q3 = df['minimum_nights'].quantile(0.75)\n",
    "IQR = Q3 - Q1\n",
    "upper_bound = Q3 + 1.5 * IQR\n",
    "print(\"Upper bound for minimum_nights (IQR method):\", upper_bound)\n",
    "\n",
    "# Filter out outliers\n",
    "df = df[df['minimum_nights'] <= upper_bound]"
   ]
  },
  {
   "cell_type": "code",
   "execution_count": 12,
   "id": "0d6c8dca-cebe-4460-a3b2-5e657e7339f0",
   "metadata": {},
   "outputs": [
    {
     "name": "stdout",
     "output_type": "stream",
     "text": [
      "count    41853.000000\n",
      "mean         3.402217\n",
      "std         22.067796\n",
      "min          1.000000\n",
      "25%          1.000000\n",
      "50%          1.000000\n",
      "75%          2.000000\n",
      "max        327.000000\n",
      "Name: calculated_host_listings_count, dtype: float64\n",
      "Upper bound for calculated_host_listings_count (IQR method): 3.5\n"
     ]
    }
   ],
   "source": [
    "print(df['calculated_host_listings_count'].describe())# this also contains outliers\n",
    "#using interquartile method to filter out outliers\n",
    "Q1 = df['calculated_host_listings_count'].quantile(0.25)\n",
    "Q3 = df['calculated_host_listings_count'].quantile(0.75)\n",
    "IQR = Q3 - Q1\n",
    "upper_bound = Q3 + 1.5 * IQR\n",
    "print(\"Upper bound for calculated_host_listings_count (IQR method):\", upper_bound)\n",
    "\n",
    "# Filter out outliers\n",
    "df = df[df['calculated_host_listings_count'] <= upper_bound]"
   ]
  },
  {
   "cell_type": "code",
   "execution_count": 13,
   "id": "dfa588d3-41d5-4a82-912b-38116918aab2",
   "metadata": {},
   "outputs": [
    {
     "name": "stdout",
     "output_type": "stream",
     "text": [
      "Cleaned Data info:\n",
      "\n",
      "<class 'pandas.core.frame.DataFrame'>\n",
      "Index: 37798 entries, 1 to 48894\n",
      "Data columns (total 16 columns):\n",
      " #   Column                          Non-Null Count  Dtype  \n",
      "---  ------                          --------------  -----  \n",
      " 0   id                              37798 non-null  int64  \n",
      " 1   name                            37798 non-null  object \n",
      " 2   host_id                         37798 non-null  int64  \n",
      " 3   host_name                       37798 non-null  object \n",
      " 4   neighbourhood_group             37798 non-null  object \n",
      " 5   neighbourhood                   37798 non-null  object \n",
      " 6   latitude                        37798 non-null  float64\n",
      " 7   longitude                       37798 non-null  float64\n",
      " 8   room_type                       37798 non-null  object \n",
      " 9   price                           37798 non-null  int64  \n",
      " 10  minimum_nights                  37798 non-null  int64  \n",
      " 11  number_of_reviews               37798 non-null  int64  \n",
      " 12  last_review                     37798 non-null  object \n",
      " 13  reviews_per_month               37798 non-null  float64\n",
      " 14  calculated_host_listings_count  37798 non-null  int64  \n",
      " 15  availability_365                37798 non-null  int64  \n",
      "dtypes: float64(3), int64(7), object(6)\n",
      "memory usage: 4.9+ MB\n"
     ]
    }
   ],
   "source": [
    "#Data Integrity Check\n",
    "#basic info after cleaning\n",
    "print(\"Cleaned Data info:\\n\")\n",
    "df.info()"
   ]
  },
  {
   "cell_type": "code",
   "execution_count": 14,
   "id": "b0695dab-f3aa-4190-a4a3-0b140bb9836d",
   "metadata": {},
   "outputs": [
    {
     "name": "stdout",
     "output_type": "stream",
     "text": [
      "Cleaned data saved..\n"
     ]
    }
   ],
   "source": [
    "df.to_csv(\"D:/OASIS DATA ANALYSIS/project3/AB_NYC_2019_cleaned.csv\")\n",
    "print(\"Cleaned data saved..\")"
   ]
  }
 ],
 "metadata": {
  "kernelspec": {
   "display_name": "Python 3 (ipykernel)",
   "language": "python",
   "name": "python3"
  },
  "language_info": {
   "codemirror_mode": {
    "name": "ipython",
    "version": 3
   },
   "file_extension": ".py",
   "mimetype": "text/x-python",
   "name": "python",
   "nbconvert_exporter": "python",
   "pygments_lexer": "ipython3",
   "version": "3.12.5"
  }
 },
 "nbformat": 4,
 "nbformat_minor": 5
}
